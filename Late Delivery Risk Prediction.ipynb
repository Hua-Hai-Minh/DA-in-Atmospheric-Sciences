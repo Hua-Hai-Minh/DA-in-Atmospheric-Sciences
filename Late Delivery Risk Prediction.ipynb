{
  "nbformat": 4,
  "nbformat_minor": 0,
  "metadata": {
    "colab": {
      "provenance": []
    },
    "kernelspec": {
      "name": "python3",
      "display_name": "Python 3"
    },
    "language_info": {
      "name": "python"
    }
  },
  "cells": [
    {
      "cell_type": "code",
      "execution_count": null,
      "metadata": {
        "id": "z4IGHYPbh78Q"
      },
      "outputs": [],
      "source": [
        "import warnings\n",
        "warnings.filterwarnings(\"ignore\")\n",
        "import numpy as np\n",
        "import pandas as pd\n",
        "import pickle\n",
        "from sklearn import preprocessing\n",
        "from sklearn import model_selection\n",
        "from sklearn.tree import DecisionTreeRegressor\n",
        "from sklearn.metrics import roc_auc_score,r2_score,mean_absolute_error,mean_squared_error,accuracy_score,classification_report,confusion_matrix\n",
        "import seaborn as sns\n",
        "import matplotlib.pyplot as plt"
      ]
    },
    {
      "cell_type": "code",
      "source": [
        "data = pd.read_csv('../input/dataco-smart-supply-chain-for-big-data-analysis/DataCoSupplyChainDataset.csv',header= 0,encoding='unicode_escape')\n",
        "pd.set_option('display.max_columns',None)\n",
        "data.head()"
      ],
      "metadata": {
        "id": "anHUgjvuiLch"
      },
      "execution_count": null,
      "outputs": []
    },
    {
      "cell_type": "markdown",
      "source": [
        "[EDA]"
      ],
      "metadata": {
        "id": "8xTOOxjliYQA"
      }
    },
    {
      "cell_type": "code",
      "source": [
        "def data_info(data):\n",
        "    print('1) Number of columns are : ',data.shape[1])\n",
        "    print('2) Number of rows are : ',data.shape[0])\n",
        "    print('3) Total number of data-points :',data.size)\n",
        "    numerical_features = [f for f in data.columns if data[f].dtypes!='O']\n",
        "    print('4) Count of Numerical Features :',len(numerical_features))\n",
        "    cat_features = [c for c in data.columns if data[c].dtypes=='O']\n",
        "    print('5) Count of Categorical Features :',len(cat_features))\n",
        "data_info(data)"
      ],
      "metadata": {
        "id": "pr2El84GiY5o"
      },
      "execution_count": null,
      "outputs": []
    },
    {
      "cell_type": "markdown",
      "source": [
        "Missing Value Identification"
      ],
      "metadata": {
        "id": "-h5kdjGjilqP"
      }
    },
    {
      "cell_type": "code",
      "source": [
        "def features_with_missing_values(data):\n",
        "    x = data.isnull().sum().sum()/(data.shape[0]*data.shape[1])*100\n",
        "    print('Percentage of Total Missing Values is ' ,round(x,2) ,'%')\n",
        "    print('Missing Value Estimation :')\n",
        "    for i in data.columns:\n",
        "        if data[i].isna().sum()>0:\n",
        "            print('The Feature ',i,' has '+ str(data[i].isna().sum()) + ' missing values')\n",
        "\n",
        "features_with_missing_values(data)"
      ],
      "metadata": {
        "id": "Kbuv5z64iiLW"
      },
      "execution_count": null,
      "outputs": []
    },
    {
      "cell_type": "code",
      "source": [
        "# Target value analysis\n",
        "sns.set()\n",
        "sns.scatterplot(x=\"Days for shipment (scheduled)\",y=\"Days for shipping (real)\",hue=\"Late_delivery_risk\",data=data)"
      ],
      "metadata": {
        "id": "Nn4sFlIkip3A"
      },
      "execution_count": null,
      "outputs": []
    },
    {
      "cell_type": "code",
      "source": [
        "corrmap = data.corr()\n",
        "top=corrmap.index\n",
        "plt.figure(figsize=(30,20))\n",
        "g=sns.heatmap(data[top].corr(),annot=True,cmap=\"RdYlGn\")"
      ],
      "metadata": {
        "id": "EOp2yeF3iwIx"
      },
      "execution_count": null,
      "outputs": []
    },
    {
      "cell_type": "markdown",
      "source": [
        "Insights from Heatmap:\n",
        "\n",
        "1. Columns that are similar with same values but with different metadata (duplicate columns)\n",
        "\n",
        "[Benefit per order], Order Profit per order\n",
        "\n",
        "[Sales per customer], Sales, Order Item Total\n",
        "\n",
        "[Category ID], Product Category ID, Order Customer ID, Order Item Category ID, Product card ID,\n",
        "\n",
        "[Order Item Product Price],Product Price\n",
        "\n",
        "2. Unwanted features(null or less correlated values)\n",
        "\n",
        "Product Description\n",
        "\n",
        "Product Status"
      ],
      "metadata": {
        "id": "21mpXE57i7Sg"
      }
    },
    {
      "cell_type": "markdown",
      "source": [
        "Splitting dataset into smaller datasets for domain usage and easier modelling\n",
        "\n",
        "1. Finance\n",
        "2. Demographics\n",
        "3. Shipment day estimation"
      ],
      "metadata": {
        "id": "VPFo4FtBjIGw"
      }
    },
    {
      "cell_type": "code",
      "source": [
        "shipment_features = ['Type','Days for shipping (real)','Days for shipment (scheduled)','Late_delivery_risk','Benefit per order',\n",
        "                        'Sales per customer','Latitude','Longitude','Shipping Mode','Order Status','Order Region',\n",
        "                        'Order Country','Order City','Market','Delivery Status']\n",
        "shipment = data[shipment_features]\n",
        "shipment.head()"
      ],
      "metadata": {
        "id": "m-tLebBki1vh"
      },
      "execution_count": null,
      "outputs": []
    },
    {
      "cell_type": "code",
      "source": [
        "finance_features=['Benefit per order','Sales per customer','Order Item Discount','Order Item Discount Rate',\n",
        "                  'Order Item Product Price','Order Item Profit Ratio']\n",
        "finance = data[finance_features]\n",
        "finance.head()"
      ],
      "metadata": {
        "id": "7PIxN_tpjQBn"
      },
      "execution_count": null,
      "outputs": []
    },
    {
      "cell_type": "markdown",
      "source": [
        "FEATURE ENGINEERING"
      ],
      "metadata": {
        "id": "UlzQJwk7jUUv"
      }
    },
    {
      "cell_type": "code",
      "source": [
        "#Converting categorical features that represent date and time to datetime datatype.\n",
        "data['order_date'] = pd.to_datetime(data['order date (DateOrders)'])\n",
        "data['shipping_date']=pd.to_datetime(data['shipping date (DateOrders)'])"
      ],
      "metadata": {
        "id": "a7EK-ZMrjSFX"
      },
      "execution_count": null,
      "outputs": []
    },
    {
      "cell_type": "code",
      "source": [
        "# Handling Time and date variables\n",
        "data['order_year'] = pd.DatetimeIndex(data['order_date']).year\n",
        "data['order_month'] = pd.DatetimeIndex(data['order_date']).month\n",
        "data['order_day'] = pd.DatetimeIndex(data['order_date']).day\n",
        "data['shipping_year'] = pd.DatetimeIndex(data['shipping_date']).year\n",
        "data['shipping_month'] = pd.DatetimeIndex(data['shipping_date']).month\n",
        "data['shipping_day'] = pd.DatetimeIndex(data['shipping_date']).day"
      ],
      "metadata": {
        "id": "VDUM8t0ajXSA"
      },
      "execution_count": null,
      "outputs": []
    },
    {
      "cell_type": "code",
      "source": [
        "new_dataset_features = ['Type','Days for shipping (real)','Days for shipment (scheduled)','Late_delivery_risk','Benefit per order',\n",
        "                        'Sales per customer','Latitude','Longitude','Shipping Mode','Order Status','Order Region',\n",
        "                        'Order Country','Order City','Market','Delivery Status','order_day','order_month','order_year',\n",
        "                        'shipping_day','shipping_month','shipping_year']\n",
        "len(new_dataset_features)"
      ],
      "metadata": {
        "id": "MUrWz7eFjkDD"
      },
      "execution_count": null,
      "outputs": []
    },
    {
      "cell_type": "code",
      "source": [
        "new_data = data[new_dataset_features]\n",
        "model_data = new_data\n",
        "new_data.head()"
      ],
      "metadata": {
        "id": "GVaq1pjDjkyZ"
      },
      "execution_count": null,
      "outputs": []
    },
    {
      "cell_type": "code",
      "source": [
        "#One-Hot encoding categotical variables in the data\n",
        "model_data = pd.get_dummies(model_data)\n",
        "model_data.shape"
      ],
      "metadata": {
        "id": "BNHdeqGDjm-y"
      },
      "execution_count": null,
      "outputs": []
    },
    {
      "cell_type": "markdown",
      "source": [
        "MODEL BUILDING"
      ],
      "metadata": {
        "id": "rqDp9pIsjvin"
      }
    },
    {
      "cell_type": "code",
      "source": [
        "x = model_data.drop(['Days for shipping (real)','Days for shipment (scheduled)'],axis=1)\n",
        "y = model_data[['Days for shipping (real)','Days for shipment (scheduled)']]\n",
        "x.shape,y.shape"
      ],
      "metadata": {
        "id": "tjl_KdUIjqH3"
      },
      "execution_count": null,
      "outputs": []
    },
    {
      "cell_type": "code",
      "source": [
        "# train-test_split\n",
        "x_train,x_test,y_train,y_test = model_selection.train_test_split(x,y,test_size=0.20)"
      ],
      "metadata": {
        "id": "WKV3hooKjyUg"
      },
      "execution_count": null,
      "outputs": []
    },
    {
      "cell_type": "code",
      "source": [
        "#sc=StandardScaler()\n",
        "#No standard Scaling is not required for Decision Trees are tree-based algorithms and do not need normalization or standard scaling\n",
        "#pc=PCA()\n",
        "# The hyper-parameters used are default hyper-parameters\n",
        "model=DecisionTreeRegressor()\n",
        "model.fit(x_train,y_train)\n",
        "pred=model.predict(x_test)"
      ],
      "metadata": {
        "id": "z22lGaJ8j0LY"
      },
      "execution_count": null,
      "outputs": []
    },
    {
      "cell_type": "markdown",
      "source": [
        "MODEL EVALUATION"
      ],
      "metadata": {
        "id": "Np7sp7xlj6ZK"
      }
    },
    {
      "cell_type": "code",
      "source": [
        "#Function for estimating r2_score, mean_squared_error, mean_absolute_error\n",
        "def metrics(y_test,pred):\n",
        "    a =r2_score(y_test,pred)\n",
        "    b =mean_squared_error(y_test,pred)\n",
        "    c =mean_absolute_error(y_test,pred)\n",
        "    print('The r-squared score of the model is ',a)\n",
        "    print('The mean squared error is',b)\n",
        "    print('The mean accuracy score is',c)"
      ],
      "metadata": {
        "id": "bVXKWRyjj4QA"
      },
      "execution_count": null,
      "outputs": []
    },
    {
      "cell_type": "code",
      "source": [
        "metrics(y_test,pred)\n",
        "#from sklearn.model_selection import cross_validate\n",
        "#cv_results = cross_validate(clf,x,y,cv=4)\n",
        "#cv_results {NO sufficient RAM space in Kaggle Kernel to run the CROSS-VALIDATION TESTS}"
      ],
      "metadata": {
        "id": "H5vpwjMWkFuV"
      },
      "execution_count": null,
      "outputs": []
    },
    {
      "cell_type": "markdown",
      "source": [
        "PREDICTIVE ANALYTICS : Late_delivery_prediction"
      ],
      "metadata": {
        "id": "tIK7QNeEkO0d"
      }
    },
    {
      "cell_type": "code",
      "source": [
        "#Converting the predicted output array to dataframe\n",
        "Prediction = pd.DataFrame(pred)\n",
        "prediction = Prediction.rename(columns={0:'Fastest_shipment',1:'Avg_shipment'})\n",
        "prediction.head()"
      ],
      "metadata": {
        "id": "Iy0OqSzJkQJV"
      },
      "execution_count": null,
      "outputs": []
    },
    {
      "cell_type": "markdown",
      "source": [
        "Using Fastest product shipment and Normal shipment duration(in days) features from predictions\n",
        "\n",
        "Risk in delivery is a feature that highly corresponds and correlates to Fastest Shipment and Avg_shipment duration in days. If the fastest shipment duration is greater than avg_shipment, then late delivery risk is heavier as the scheduled days are outnumbered. Similarly, if avg_shipment values are greater than former, then there is a high probability for FAST/EARLY delivery of goods to customers"
      ],
      "metadata": {
        "id": "jMrUZUX2kW2a"
      }
    },
    {
      "cell_type": "code",
      "source": [
        "# Statiscal modelling\n",
        "prediction['risk'] = np.where(prediction['Avg_shipment'] >= prediction['Fastest_shipment'],0,1)"
      ],
      "metadata": {
        "id": "D3QWYU9rkTEN"
      },
      "execution_count": null,
      "outputs": []
    },
    {
      "cell_type": "code",
      "source": [
        "prediction.head()"
      ],
      "metadata": {
        "id": "ALjxCESwkgMh"
      },
      "execution_count": null,
      "outputs": []
    },
    {
      "cell_type": "code",
      "source": [
        "l = prediction['risk']\n",
        "m = x_test['Late_delivery_risk']\n",
        "l.shape,m.shape"
      ],
      "metadata": {
        "id": "4ttDCljHkiGo"
      },
      "execution_count": null,
      "outputs": []
    },
    {
      "cell_type": "markdown",
      "source": [
        "Classification Model Evaluation"
      ],
      "metadata": {
        "id": "xnkcE0oNkmMY"
      }
    },
    {
      "cell_type": "code",
      "source": [
        "# Defining a function to evaluate our statiscal model for Late_delivery_risk_prediction\n",
        "def evaluation_risk_factor(l,m):\n",
        "  print('1) The accuracy of the risk predictor model is :',accuracy_score(l,m))\n",
        "  print('2) The AUROC score is :',roc_auc_score(l,m))\n",
        "  print('3) Some of the key classification metrics are :')\n",
        "  print(classification_report(l,m))\n",
        "  ax=plt.subplot()\n",
        "  sns.heatmap(confusion_matrix(l,m),annot=True,ax=ax);\n",
        "  ax.set_xlabel('Predicted labels'); ax.set_ylabel('True labels')\n",
        "  ax.set_title('Confusion matrix for Risk Delivery classfication');"
      ],
      "metadata": {
        "id": "kcAmacCIkkd9"
      },
      "execution_count": null,
      "outputs": []
    },
    {
      "cell_type": "code",
      "source": [
        "evaluation_risk_factor(l,m)"
      ],
      "metadata": {
        "id": "v161EPynkpGd"
      },
      "execution_count": null,
      "outputs": []
    },
    {
      "cell_type": "code",
      "source": [
        "sns.set(style=\"darkgrid\")\n",
        "ax=sns.countplot(x=\"risk\",data=prediction).set_title('Predicted Late delivery risks')"
      ],
      "metadata": {
        "id": "NfZBZrjtkrE-"
      },
      "execution_count": null,
      "outputs": []
    },
    {
      "cell_type": "code",
      "source": [
        "bx=sns.countplot(x='Late_delivery_risk',data=x_test).set_title('Actual Late_delivery_risk')"
      ],
      "metadata": {
        "id": "V5E4PWGEkt2U"
      },
      "execution_count": null,
      "outputs": []
    },
    {
      "cell_type": "markdown",
      "source": [
        "Saving the trained regression model to pickle file"
      ],
      "metadata": {
        "id": "XqC7kEdkkylR"
      }
    },
    {
      "cell_type": "code",
      "source": [
        "#filename = 'Shipping_duration_estimator.pkl'\n",
        "#pickle.dump(model,open(filename,'wb'))"
      ],
      "metadata": {
        "id": "WwhPh7nYkzNB"
      },
      "execution_count": null,
      "outputs": []
    }
  ]
}